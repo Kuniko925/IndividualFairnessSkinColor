{
 "cells": [
  {
   "cell_type": "markdown",
   "id": "0c747e93-5b21-4ac1-ae7f-5ce234da802f",
   "metadata": {},
   "source": [
    "# Measure Continuous Distributions"
   ]
  },
  {
   "cell_type": "code",
   "execution_count": 11,
   "id": "a9ca7e72-5a90-46dd-b741-df2e6b939661",
   "metadata": {},
   "outputs": [
    {
     "name": "stdout",
     "output_type": "stream",
     "text": [
      "The autoreload extension is already loaded. To reload it, use:\n",
      "  %reload_ext autoreload\n"
     ]
    }
   ],
   "source": [
    "%load_ext autoreload\n",
    "%autoreload 2\n",
    "    \n",
    "import pandas as pd\n",
    "import cv2\n",
    "from measure import MeasureSkin"
   ]
  },
  {
   "cell_type": "code",
   "execution_count": 12,
   "id": "8cf65677-3fe0-42a5-b154-47db1442f55d",
   "metadata": {},
   "outputs": [],
   "source": [
    "db = \"HAM\"\n",
    "root = f\"../../dataset/CAI 2025/{db}/\"\n",
    "df_train = pd.read_csv(f\"{root}/dataframe/df_train.csv\")\n",
    "df_valid = pd.read_csv(f\"{root}/dataframe/df_valid.csv\")\n",
    "df_test = pd.read_csv(f\"{root}/dataframe/df_test.csv\")\n",
    "\n",
    "df_train_savepath = f\"{root}/dataframe/df_distance_train.csv\"\n",
    "df_vaild_savepath = f\"{root}/dataframe/df_distance_valid.csv\"\n",
    "df_test_savepath = f\"{root}/dataframe/df_distance_test.csv\""
   ]
  },
  {
   "cell_type": "code",
   "execution_count": 13,
   "id": "8988edd4-36e3-43db-9e90-315c627a9949",
   "metadata": {},
   "outputs": [
    {
     "name": "stdout",
     "output_type": "stream",
     "text": [
      "BaseLine File Name: ../../dataset/CAI 2025/HAM/mask/ISIC_0032004.jpg\n",
      "Conventional ITA values: 79.24961719817743\n"
     ]
    }
   ],
   "source": [
    "ms = MeasureSkin()\n",
    "ms.select_baseline_skin(df_valid)"
   ]
  },
  {
   "cell_type": "code",
   "execution_count": 14,
   "id": "261e8120-d6ed-4c58-affe-c65961216513",
   "metadata": {},
   "outputs": [
    {
     "name": "stdout",
     "output_type": "stream",
     "text": [
      "Distance measure completed.\n",
      "Distance measure completed.\n",
      "Distance measure completed.\n"
     ]
    }
   ],
   "source": [
    "ms.measure(df_train, df_train_savepath)\n",
    "ms.measure(df_valid, df_vaild_savepath)\n",
    "ms.measure(df_test, df_test_savepath)"
   ]
  },
  {
   "cell_type": "code",
   "execution_count": null,
   "id": "5117c9a7-4e7c-40ea-b7c0-5c77b3d81bd6",
   "metadata": {},
   "outputs": [],
   "source": []
  }
 ],
 "metadata": {
  "kernelspec": {
   "display_name": "Python 3 (ipykernel)",
   "language": "python",
   "name": "python3"
  },
  "language_info": {
   "codemirror_mode": {
    "name": "ipython",
    "version": 3
   },
   "file_extension": ".py",
   "mimetype": "text/x-python",
   "name": "python",
   "nbconvert_exporter": "python",
   "pygments_lexer": "ipython3",
   "version": "3.11.7"
  }
 },
 "nbformat": 4,
 "nbformat_minor": 5
}
