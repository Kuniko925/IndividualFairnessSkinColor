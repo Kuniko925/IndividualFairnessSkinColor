{
 "cells": [
  {
   "cell_type": "code",
   "execution_count": 1,
   "id": "a793bc1f-011e-496f-bacf-3ab10055724c",
   "metadata": {},
   "outputs": [],
   "source": [
    "%load_ext autoreload\n",
    "%autoreload 2\n",
    "\n",
    "import numpy as np\n",
    "import pandas as pd\n",
    "import os\n",
    "import random\n",
    "import torch\n",
    "import torch.nn as nn\n",
    "from custommodels import LoadDataset, ResNet50, DenseNet121, MobileNetV2\n",
    "from training import ModelTrainer"
   ]
  },
  {
   "cell_type": "code",
   "execution_count": 2,
   "id": "caa3db01-8093-4b9e-8d7d-e6026379353b",
   "metadata": {},
   "outputs": [],
   "source": [
    "# to reproduce\n",
    "seed = 42\n",
    "random.seed(seed)\n",
    "np.random.seed(seed)\n",
    "torch.manual_seed(seed)\n",
    "torch.backends.cudnn.benchmark = False\n",
    "torch.backends.cudnn.deterministic = True"
   ]
  },
  {
   "cell_type": "code",
   "execution_count": 3,
   "id": "2e75bd4a-a24c-4419-bf22-a1c48ae7800e",
   "metadata": {},
   "outputs": [
    {
     "name": "stdout",
     "output_type": "stream",
     "text": [
      "Width: 200 Height: 150\n"
     ]
    }
   ],
   "source": [
    "db = \"HAM\"\n",
    "root = f\"../../dataset/CAI 2025/{db}/\"\n",
    "df_train = pd.read_csv(f\"{root}/dataframe/df_distance_train.csv\")\n",
    "df_valid = pd.read_csv(f\"{root}/dataframe/df_distance_valid.csv\")\n",
    "df_test = pd.read_csv(f\"{root}/dataframe/df_distance_test.csv\")\n",
    "\n",
    "loader = LoadDataset(label=\"label\", batch_size=16)\n",
    "train_loader, valid_loader, test_loader = loader.create_dataloaders(df_train, df_valid, df_test)"
   ]
  },
  {
   "cell_type": "markdown",
   "id": "6c35d48b-91ae-4ca3-948c-4d63d8dffa53",
   "metadata": {},
   "source": [
    "# MobileNet"
   ]
  },
  {
   "cell_type": "code",
   "execution_count": 4,
   "id": "d41a4072-154a-41ef-b317-54a55979741e",
   "metadata": {},
   "outputs": [
    {
     "name": "stdout",
     "output_type": "stream",
     "text": [
      "../../dataset/CAI 2025/HAM/model/MOBILE/ created.\n"
     ]
    }
   ],
   "source": [
    "models = [\"RES\", \"DENSE\", \"MOBILE\"]\n",
    "\n",
    "model_save_directory = f\"{root}model/{models[2]}/\"\n",
    "if not os.path.exists(model_save_directory):\n",
    "    os.makedirs(model_save_directory)\n",
    "    print(f\"{model_save_directory} created.\")\n",
    "else:\n",
    "    print(f\"{model_save_directory} aready exist.\")\n",
    "        \n",
    "df_valid_filepath = f\"{root}dataframe/df_valid_{models[2]}.csv\"\n",
    "df_test_filepath = f\"{root}dataframe/df_test_{models[2]}.csv\""
   ]
  },
  {
   "cell_type": "code",
   "execution_count": 5,
   "id": "253c5061-808b-4175-9bab-7b49955b1d36",
   "metadata": {},
   "outputs": [
    {
     "name": "stderr",
     "output_type": "stream",
     "text": [
      "Downloading: \"https://download.pytorch.org/models/mobilenet_v2-b0353104.pth\" to /home/kuniko/.cache/torch/hub/checkpoints/mobilenet_v2-b0353104.pth\n",
      "100%|██████████████████████████████████████████████████████████████████████████████| 13.6M/13.6M [00:00<00:00, 16.1MB/s]\n"
     ]
    },
    {
     "name": "stdout",
     "output_type": "stream",
     "text": [
      "Outputs shape: torch.Size([16, 8])\n",
      "Outputs: tensor([[-1.8585e-01,  4.2029e-02,  3.1232e-01,  3.6758e-01, -7.1135e-01,\n",
      "         -6.9092e-01, -3.9796e-01,  1.0613e-02],\n",
      "        [-5.5740e-01, -6.9634e-01, -3.2108e-01,  1.7646e-02,  2.6472e-01,\n",
      "         -5.6385e-01, -6.0234e-01,  4.9297e-01],\n",
      "        [-2.4249e-01, -1.6800e-01, -4.6518e-01,  8.2310e-02, -4.4608e-02,\n",
      "         -6.0954e-01, -8.3505e-01,  3.9896e-01],\n",
      "        [-7.5390e-02,  2.0289e-01,  6.3203e-02,  7.1022e-01,  1.0580e-01,\n",
      "          7.3093e-04, -3.5861e-01,  3.4278e-01],\n",
      "        [-3.1056e-01,  6.8551e-02,  4.7254e-02,  7.8186e-01,  2.1710e-02,\n",
      "         -2.8124e-01, -1.2946e-01, -1.1571e-01],\n",
      "        [-6.2787e-01, -1.4293e-01, -4.8364e-01,  2.9558e-01,  2.8897e-01,\n",
      "         -8.5005e-01, -4.4024e-01,  5.8109e-01],\n",
      "        [-2.8291e-01, -3.0112e-01,  9.3352e-02,  9.6116e-01, -2.5158e-01,\n",
      "         -5.8081e-01, -7.4506e-02,  2.0128e-01],\n",
      "        [-4.2191e-01, -1.0707e-01, -4.6003e-02,  1.0376e+00, -2.7459e-01,\n",
      "         -2.3239e-01, -2.0833e-01,  4.1282e-01],\n",
      "        [-1.1455e+00,  4.4874e-01, -2.0327e-01,  4.7628e-01,  2.0186e-01,\n",
      "         -3.6641e-01,  1.3208e-01,  3.0643e-01],\n",
      "        [-1.4499e-01, -2.5387e-01, -6.2900e-02,  4.6116e-01, -2.3769e-01,\n",
      "         -3.1420e-01, -4.2525e-01,  2.7729e-01],\n",
      "        [-4.9180e-01, -5.5981e-01,  2.7471e-01,  6.4059e-01,  2.7397e-02,\n",
      "         -1.0313e+00, -1.5120e-01,  2.1861e-01],\n",
      "        [-2.3475e-02, -2.2832e-01,  2.1046e-01,  3.5216e-01, -3.7632e-01,\n",
      "         -6.9766e-01, -5.6259e-02,  3.3894e-01],\n",
      "        [-2.9151e-01, -6.2344e-02,  3.2869e-01,  3.9670e-01, -3.8546e-01,\n",
      "         -2.7970e-02, -7.0658e-01,  1.5607e-01],\n",
      "        [-2.0074e-01, -3.3040e-02,  2.6149e-01,  7.8664e-01, -5.0755e-01,\n",
      "         -6.7118e-01, -4.1263e-02,  5.3741e-01],\n",
      "        [-8.5954e-01,  8.8809e-02, -2.8370e-01,  7.0745e-01,  3.5930e-01,\n",
      "         -5.7407e-01, -3.5861e-02, -1.8371e-02],\n",
      "        [-5.6456e-01, -2.7987e-01, -4.7441e-01,  2.2989e-01, -1.6655e-01,\n",
      "         -6.2769e-01, -2.1468e-01, -7.8993e-02]], device='cuda:0',\n",
      "       grad_fn=<AddmmBackward0>)\n",
      "Labels shape: torch.Size([16])\n",
      "Labels: tensor([0., 0., 0., 0., 0., 0., 0., 0., 0., 0., 1., 0., 1., 0., 0., 0.],\n",
      "       device='cuda:0')\n"
     ]
    },
    {
     "ename": "RuntimeError",
     "evalue": "\"nll_loss_forward_reduce_cuda_kernel_2d_index\" not implemented for 'Float'",
     "output_type": "error",
     "traceback": [
      "\u001b[0;31m---------------------------------------------------------------------------\u001b[0m",
      "\u001b[0;31mRuntimeError\u001b[0m                              Traceback (most recent call last)",
      "Cell \u001b[0;32mIn[5], line 8\u001b[0m\n\u001b[1;32m      6\u001b[0m model \u001b[38;5;241m=\u001b[39m MobileNetV2(num_class)\u001b[38;5;241m.\u001b[39mto(device)\n\u001b[1;32m      7\u001b[0m trainer \u001b[38;5;241m=\u001b[39m ModelTrainer()\n\u001b[0;32m----> 8\u001b[0m best_val_file \u001b[38;5;241m=\u001b[39m trainer\u001b[38;5;241m.\u001b[39mtrain(model, train_loader, valid_loader, model_save_directory, num_epochs\u001b[38;5;241m=\u001b[39mnum_epochs, lr\u001b[38;5;241m=\u001b[39mlr)\n",
      "File \u001b[0;32m~/notebooks/IEEE CAI 2025/training.py:47\u001b[0m, in \u001b[0;36mModelTrainer.train\u001b[0;34m(self, model, train_loader, valid_loader, model_save_directory, num_epochs, lr, weight_decay)\u001b[0m\n\u001b[1;32m     44\u001b[0m \u001b[38;5;28mprint\u001b[39m(\u001b[38;5;124m\"\u001b[39m\u001b[38;5;124mLabels:\u001b[39m\u001b[38;5;124m\"\u001b[39m, labels)\n\u001b[1;32m     45\u001b[0m \u001b[38;5;66;03m#print(\"Labels dtype:\", labels.dtype)\u001b[39;00m\n\u001b[0;32m---> 47\u001b[0m loss \u001b[38;5;241m=\u001b[39m criterion(outputs, labels)\n\u001b[1;32m     48\u001b[0m loss\u001b[38;5;241m.\u001b[39mbackward() \u001b[38;5;66;03m# 偏微分の実行。評価のときは実行しない。\u001b[39;00m\n\u001b[1;32m     49\u001b[0m optimizer\u001b[38;5;241m.\u001b[39mstep() \u001b[38;5;66;03m# 偏微分に基づいて実際に移動する。評価のときは移動しない。評価のときは学習しないから。\u001b[39;00m\n",
      "File \u001b[0;32m~/anaconda3/lib/python3.11/site-packages/torch/nn/modules/module.py:1532\u001b[0m, in \u001b[0;36mModule._wrapped_call_impl\u001b[0;34m(self, *args, **kwargs)\u001b[0m\n\u001b[1;32m   1530\u001b[0m     \u001b[38;5;28;01mreturn\u001b[39;00m \u001b[38;5;28mself\u001b[39m\u001b[38;5;241m.\u001b[39m_compiled_call_impl(\u001b[38;5;241m*\u001b[39margs, \u001b[38;5;241m*\u001b[39m\u001b[38;5;241m*\u001b[39mkwargs)  \u001b[38;5;66;03m# type: ignore[misc]\u001b[39;00m\n\u001b[1;32m   1531\u001b[0m \u001b[38;5;28;01melse\u001b[39;00m:\n\u001b[0;32m-> 1532\u001b[0m     \u001b[38;5;28;01mreturn\u001b[39;00m \u001b[38;5;28mself\u001b[39m\u001b[38;5;241m.\u001b[39m_call_impl(\u001b[38;5;241m*\u001b[39margs, \u001b[38;5;241m*\u001b[39m\u001b[38;5;241m*\u001b[39mkwargs)\n",
      "File \u001b[0;32m~/anaconda3/lib/python3.11/site-packages/torch/nn/modules/module.py:1541\u001b[0m, in \u001b[0;36mModule._call_impl\u001b[0;34m(self, *args, **kwargs)\u001b[0m\n\u001b[1;32m   1536\u001b[0m \u001b[38;5;66;03m# If we don't have any hooks, we want to skip the rest of the logic in\u001b[39;00m\n\u001b[1;32m   1537\u001b[0m \u001b[38;5;66;03m# this function, and just call forward.\u001b[39;00m\n\u001b[1;32m   1538\u001b[0m \u001b[38;5;28;01mif\u001b[39;00m \u001b[38;5;129;01mnot\u001b[39;00m (\u001b[38;5;28mself\u001b[39m\u001b[38;5;241m.\u001b[39m_backward_hooks \u001b[38;5;129;01mor\u001b[39;00m \u001b[38;5;28mself\u001b[39m\u001b[38;5;241m.\u001b[39m_backward_pre_hooks \u001b[38;5;129;01mor\u001b[39;00m \u001b[38;5;28mself\u001b[39m\u001b[38;5;241m.\u001b[39m_forward_hooks \u001b[38;5;129;01mor\u001b[39;00m \u001b[38;5;28mself\u001b[39m\u001b[38;5;241m.\u001b[39m_forward_pre_hooks\n\u001b[1;32m   1539\u001b[0m         \u001b[38;5;129;01mor\u001b[39;00m _global_backward_pre_hooks \u001b[38;5;129;01mor\u001b[39;00m _global_backward_hooks\n\u001b[1;32m   1540\u001b[0m         \u001b[38;5;129;01mor\u001b[39;00m _global_forward_hooks \u001b[38;5;129;01mor\u001b[39;00m _global_forward_pre_hooks):\n\u001b[0;32m-> 1541\u001b[0m     \u001b[38;5;28;01mreturn\u001b[39;00m forward_call(\u001b[38;5;241m*\u001b[39margs, \u001b[38;5;241m*\u001b[39m\u001b[38;5;241m*\u001b[39mkwargs)\n\u001b[1;32m   1543\u001b[0m \u001b[38;5;28;01mtry\u001b[39;00m:\n\u001b[1;32m   1544\u001b[0m     result \u001b[38;5;241m=\u001b[39m \u001b[38;5;28;01mNone\u001b[39;00m\n",
      "File \u001b[0;32m~/anaconda3/lib/python3.11/site-packages/torch/nn/modules/loss.py:1185\u001b[0m, in \u001b[0;36mCrossEntropyLoss.forward\u001b[0;34m(self, input, target)\u001b[0m\n\u001b[1;32m   1184\u001b[0m \u001b[38;5;28;01mdef\u001b[39;00m \u001b[38;5;21mforward\u001b[39m(\u001b[38;5;28mself\u001b[39m, \u001b[38;5;28minput\u001b[39m: Tensor, target: Tensor) \u001b[38;5;241m-\u001b[39m\u001b[38;5;241m>\u001b[39m Tensor:\n\u001b[0;32m-> 1185\u001b[0m     \u001b[38;5;28;01mreturn\u001b[39;00m F\u001b[38;5;241m.\u001b[39mcross_entropy(\u001b[38;5;28minput\u001b[39m, target, weight\u001b[38;5;241m=\u001b[39m\u001b[38;5;28mself\u001b[39m\u001b[38;5;241m.\u001b[39mweight,\n\u001b[1;32m   1186\u001b[0m                            ignore_index\u001b[38;5;241m=\u001b[39m\u001b[38;5;28mself\u001b[39m\u001b[38;5;241m.\u001b[39mignore_index, reduction\u001b[38;5;241m=\u001b[39m\u001b[38;5;28mself\u001b[39m\u001b[38;5;241m.\u001b[39mreduction,\n\u001b[1;32m   1187\u001b[0m                            label_smoothing\u001b[38;5;241m=\u001b[39m\u001b[38;5;28mself\u001b[39m\u001b[38;5;241m.\u001b[39mlabel_smoothing)\n",
      "File \u001b[0;32m~/anaconda3/lib/python3.11/site-packages/torch/nn/functional.py:3086\u001b[0m, in \u001b[0;36mcross_entropy\u001b[0;34m(input, target, weight, size_average, ignore_index, reduce, reduction, label_smoothing)\u001b[0m\n\u001b[1;32m   3084\u001b[0m \u001b[38;5;28;01mif\u001b[39;00m size_average \u001b[38;5;129;01mis\u001b[39;00m \u001b[38;5;129;01mnot\u001b[39;00m \u001b[38;5;28;01mNone\u001b[39;00m \u001b[38;5;129;01mor\u001b[39;00m reduce \u001b[38;5;129;01mis\u001b[39;00m \u001b[38;5;129;01mnot\u001b[39;00m \u001b[38;5;28;01mNone\u001b[39;00m:\n\u001b[1;32m   3085\u001b[0m     reduction \u001b[38;5;241m=\u001b[39m _Reduction\u001b[38;5;241m.\u001b[39mlegacy_get_string(size_average, reduce)\n\u001b[0;32m-> 3086\u001b[0m \u001b[38;5;28;01mreturn\u001b[39;00m torch\u001b[38;5;241m.\u001b[39m_C\u001b[38;5;241m.\u001b[39m_nn\u001b[38;5;241m.\u001b[39mcross_entropy_loss(\u001b[38;5;28minput\u001b[39m, target, weight, _Reduction\u001b[38;5;241m.\u001b[39mget_enum(reduction), ignore_index, label_smoothing)\n",
      "\u001b[0;31mRuntimeError\u001b[0m: \"nll_loss_forward_reduce_cuda_kernel_2d_index\" not implemented for 'Float'"
     ]
    }
   ],
   "source": [
    "num_class = 8\n",
    "num_epochs = 30\n",
    "lr = 1e-6\n",
    "\n",
    "device = torch.device(\"cuda\" if torch.cuda.is_available() else \"cpu\")\n",
    "model = MobileNetV2(num_class).to(device)\n",
    "trainer = ModelTrainer()\n",
    "best_val_file = trainer.train(model, train_loader, valid_loader, model_save_directory, num_epochs=num_epochs, lr=lr)"
   ]
  },
  {
   "cell_type": "code",
   "execution_count": null,
   "id": "281b5347-b9a4-48e5-a200-983091c25d84",
   "metadata": {},
   "outputs": [],
   "source": [
    "model = ResNet50(num_class).to(device)\n",
    "model.load_state_dict(torch.load(best_val_file))\n",
    "test_predictions, test_outputs = trainer.evaluate(model, valid_loader)\n",
    "df_valid[\"pred\"] = test_predictions\n",
    "df_valid[\"proba\"] = test_outputs\n",
    "df_valid.to_csv(df_valid_filepath, index=False)"
   ]
  },
  {
   "cell_type": "code",
   "execution_count": null,
   "id": "4c86b9f3-658e-476e-a41a-65a60afdfed3",
   "metadata": {},
   "outputs": [],
   "source": [
    "test_predictions, test_outputs = trainer.evaluate(model, test_loader)\n",
    "df_test[\"pred\"] = test_predictions\n",
    "df_test[\"proba\"] = test_outputs\n",
    "df_test.to_csv(df_valid_filepath, index=False)"
   ]
  }
 ],
 "metadata": {
  "kernelspec": {
   "display_name": "Python 3 (ipykernel)",
   "language": "python",
   "name": "python3"
  },
  "language_info": {
   "codemirror_mode": {
    "name": "ipython",
    "version": 3
   },
   "file_extension": ".py",
   "mimetype": "text/x-python",
   "name": "python",
   "nbconvert_exporter": "python",
   "pygments_lexer": "ipython3",
   "version": "3.11.7"
  }
 },
 "nbformat": 4,
 "nbformat_minor": 5
}
