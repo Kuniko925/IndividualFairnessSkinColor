{
 "cells": [
  {
   "cell_type": "markdown",
   "id": "80b0b395-025d-409a-99c4-2a0a489f6060",
   "metadata": {},
   "source": [
    "# Dataset proprocessing"
   ]
  },
  {
   "cell_type": "code",
   "execution_count": 13,
   "id": "31472874-1dde-41c6-acbf-035f66c40d86",
   "metadata": {},
   "outputs": [
    {
     "name": "stdout",
     "output_type": "stream",
     "text": [
      "The autoreload extension is already loaded. To reload it, use:\n",
      "  %reload_ext autoreload\n"
     ]
    }
   ],
   "source": [
    "%load_ext autoreload\n",
    "%autoreload 2\n",
    "    \n",
    "import pandas as pd\n",
    "import cv2\n",
    "from preprocessing import HAM"
   ]
  },
  {
   "cell_type": "code",
   "execution_count": 15,
   "id": "aa1dfd3d-74ef-4e9b-a840-5608752393e9",
   "metadata": {
    "scrolled": true
   },
   "outputs": [],
   "source": [
    "db = \"HAM\"\n",
    "metafile = \"HAM10000_metadata.csv\"\n",
    "root = f\"../../dataset/CAI 2025/{db}/\"\n",
    "df = pd.read_csv(root + metafile)"
   ]
  },
  {
   "cell_type": "code",
   "execution_count": 12,
   "id": "f73374b4-6bed-4c27-9f0a-30670ffa52bf",
   "metadata": {},
   "outputs": [
    {
     "name": "stdout",
     "output_type": "stream",
     "text": [
      "Dataset Cleaned.\n",
      "../../dataset/CAI 2025/HAM/data aready exist.\n",
      "Resize completed\n",
      "../../dataset/CAI 2025/HAM/seg aready exist.\n",
      "No segmentation: ../../dataset/CAI 2025/HAM/ham_segmentation/ISIC_0034313_segmentation.png\n",
      "No segmentation: ../../dataset/CAI 2025/HAM/ham_segmentation/ISIC_0034314_segmentation.png\n",
      "Resize completed\n",
      "../../dataset/CAI 2025/HAM/mask aready exist.\n",
      "All balck image: ISIC_0026042\n",
      "All balck image: ISIC_0029819\n",
      "Created masked files.\n",
      "Minimum: 1098\n",
      "../../dataset/CAI 2025/HAM/dataframe aready exist.\n",
      "Final sizes - train: 1976 valid: 659 test: 659\n",
      "Files saved.\n"
     ]
    }
   ],
   "source": [
    "width = 200\n",
    "height = 150\n",
    "\n",
    "ham = HAM(root, df)\n",
    "ham.organise()\n",
    "ham.resize_image(width, height)\n",
    "ham.resize_segmentation(width, height)\n",
    "ham.create_masked_image()\n",
    "ham.split_dataset(random_state=42)"
   ]
  },
  {
   "cell_type": "code",
   "execution_count": null,
   "id": "07a690c6-402d-4f56-b149-ef2119968fd2",
   "metadata": {},
   "outputs": [],
   "source": []
  }
 ],
 "metadata": {
  "kernelspec": {
   "display_name": "Python 3 (ipykernel)",
   "language": "python",
   "name": "python3"
  },
  "language_info": {
   "codemirror_mode": {
    "name": "ipython",
    "version": 3
   },
   "file_extension": ".py",
   "mimetype": "text/x-python",
   "name": "python",
   "nbconvert_exporter": "python",
   "pygments_lexer": "ipython3",
   "version": "3.11.7"
  }
 },
 "nbformat": 4,
 "nbformat_minor": 5
}
