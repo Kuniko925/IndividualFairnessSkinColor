{
 "cells": [
  {
   "cell_type": "code",
   "execution_count": 1,
   "id": "a793bc1f-011e-496f-bacf-3ab10055724c",
   "metadata": {},
   "outputs": [],
   "source": [
    "%load_ext autoreload\n",
    "%autoreload 2\n",
    "\n",
    "import numpy as np\n",
    "import pandas as pd\n",
    "import os\n",
    "import random\n",
    "import torch\n",
    "import torch.nn as nn\n",
    "from custommodels import LoadDataset, ResNet50, DenseNet121, MobileNetV2\n",
    "from training import ModelTrainer"
   ]
  },
  {
   "cell_type": "code",
   "execution_count": 2,
   "id": "caa3db01-8093-4b9e-8d7d-e6026379353b",
   "metadata": {},
   "outputs": [],
   "source": [
    "# to reproduce\n",
    "seed = 42\n",
    "random.seed(seed)\n",
    "np.random.seed(seed)\n",
    "torch.manual_seed(seed)\n",
    "torch.backends.cudnn.benchmark = False\n",
    "torch.backends.cudnn.deterministic = True"
   ]
  },
  {
   "cell_type": "code",
   "execution_count": 3,
   "id": "2e75bd4a-a24c-4419-bf22-a1c48ae7800e",
   "metadata": {},
   "outputs": [
    {
     "name": "stdout",
     "output_type": "stream",
     "text": [
      "Width: 200 Height: 150\n"
     ]
    }
   ],
   "source": [
    "db = \"HAM\"\n",
    "root = f\"../../dataset/CAI 2025/{db}/\"\n",
    "df_train = pd.read_csv(f\"{root}/dataframe/df_distance_train.csv\")\n",
    "df_valid = pd.read_csv(f\"{root}/dataframe/df_distance_valid.csv\")\n",
    "df_test = pd.read_csv(f\"{root}/dataframe/df_distance_test.csv\")\n",
    "\n",
    "loader = LoadDataset(label=\"label\", batch_size=16)\n",
    "train_loader, valid_loader, test_loader = loader.create_dataloaders(df_train, df_valid, df_test)"
   ]
  },
  {
   "cell_type": "markdown",
   "id": "6c35d48b-91ae-4ca3-948c-4d63d8dffa53",
   "metadata": {},
   "source": [
    "# ResNet"
   ]
  },
  {
   "cell_type": "code",
   "execution_count": 4,
   "id": "d41a4072-154a-41ef-b317-54a55979741e",
   "metadata": {},
   "outputs": [
    {
     "name": "stdout",
     "output_type": "stream",
     "text": [
      "../../dataset/CAI 2025/HAM/models/RES/ created.\n"
     ]
    }
   ],
   "source": [
    "models = [\"RES\", \"DENSE\", \"MOBILE\"]\n",
    "\n",
    "model_save_directory = f\"{root}models/{models[0]}/\"\n",
    "if not os.path.exists(model_save_directory):\n",
    "    os.makedirs(model_save_directory)\n",
    "    print(f\"{model_save_directory} created.\")\n",
    "else:\n",
    "    print(f\"{model_save_directory} aready exist.\")\n",
    "\n",
    "df_valid_filepath = f\"{root}eval/df_valid_{models[0]}.csv\"\n",
    "df_test_filepath = f\"{root}eval/df_test_{models[0]}.csv\""
   ]
  },
  {
   "cell_type": "code",
   "execution_count": null,
   "id": "253c5061-808b-4175-9bab-7b49955b1d36",
   "metadata": {},
   "outputs": [
    {
     "name": "stderr",
     "output_type": "stream",
     "text": [
      "/home/kuniko/anaconda3/lib/python3.11/site-packages/torch/nn/modules/conv.py:456: UserWarning: Plan failed with a cudnnException: CUDNN_BACKEND_EXECUTION_PLAN_DESCRIPTOR: cudnnFinalize Descriptor Failed cudnn_status: CUDNN_STATUS_NOT_SUPPORTED (Triggered internally at ../aten/src/ATen/native/cudnn/Conv_v8.cpp:919.)\n",
      "  return F.conv2d(input, weight, bias, self.stride,\n"
     ]
    },
    {
     "name": "stdout",
     "output_type": "stream",
     "text": [
      "Validation Accuracy: 0.6064 | Loss: 1.8714 | F1: 0.1252\n",
      "Validation Accuracy: 0.6628 | Loss: 1.7407 | F1: 0.1206\n",
      "Validation Accuracy: 0.6668 | Loss: 1.5768 | F1: 0.1212\n",
      "Validation Accuracy: 0.6688 | Loss: 1.3955 | F1: 0.1201\n",
      "Validation Accuracy: 0.6693 | Loss: 1.3218 | F1: 0.1204\n",
      "Validation Accuracy: 0.6733 | Loss: 1.2890 | F1: 0.1317\n",
      "Validation Accuracy: 0.6708 | Loss: 1.1821 | F1: 0.1202\n",
      "Validation Accuracy: 0.6708 | Loss: 1.0986 | F1: 0.1187\n",
      "Validation Accuracy: 0.6733 | Loss: 1.0903 | F1: 0.1265\n",
      "Validation Accuracy: 0.6718 | Loss: 1.0479 | F1: 0.1214\n",
      "Validation Accuracy: 0.6713 | Loss: 1.0474 | F1: 0.1214\n",
      "Validation Accuracy: 0.6733 | Loss: 1.0271 | F1: 0.1276\n",
      "Validation Accuracy: 0.6723 | Loss: 0.9918 | F1: 0.1226\n",
      "Validation Accuracy: 0.6728 | Loss: 0.9926 | F1: 0.1272\n",
      "Validation Accuracy: 0.6728 | Loss: 0.9906 | F1: 0.1262\n",
      "Validation Accuracy: 0.6723 | Loss: 0.9566 | F1: 0.1258\n",
      "Validation Accuracy: 0.6753 | Loss: 0.9315 | F1: 0.1336\n",
      "Validation Accuracy: 0.6768 | Loss: 0.9411 | F1: 0.1387\n",
      "Validation Accuracy: 0.6738 | Loss: 0.9280 | F1: 0.1323\n",
      "Validation Accuracy: 0.6763 | Loss: 0.9127 | F1: 0.1367\n",
      "Validation Accuracy: 0.6768 | Loss: 0.9044 | F1: 0.1410\n",
      "Validation Accuracy: 0.6813 | Loss: 0.8963 | F1: 0.1459\n",
      "Validation Accuracy: 0.6823 | Loss: 0.9005 | F1: 0.1521\n",
      "Validation Accuracy: 0.6838 | Loss: 0.8854 | F1: 0.1526\n",
      "Validation Accuracy: 0.6823 | Loss: 0.8764 | F1: 0.1515\n",
      "Validation Accuracy: 0.6833 | Loss: 0.8837 | F1: 0.1573\n",
      "Validation Accuracy: 0.6823 | Loss: 0.8653 | F1: 0.1548\n",
      "Validation Accuracy: 0.6903 | Loss: 0.8706 | F1: 0.1715\n"
     ]
    }
   ],
   "source": [
    "num_class = 8\n",
    "num_epochs = 30\n",
    "lr = 1e-6\n",
    "\n",
    "device = torch.device(\"cuda\" if torch.cuda.is_available() else \"cpu\")\n",
    "model = ResNet50(num_class).to(device)\n",
    "trainer = ModelTrainer()\n",
    "best_val_file = trainer.train(model, train_loader, valid_loader, model_save_directory, num_epochs=num_epochs, lr=lr)"
   ]
  },
  {
   "cell_type": "code",
   "execution_count": null,
   "id": "281b5347-b9a4-48e5-a200-983091c25d84",
   "metadata": {},
   "outputs": [],
   "source": [
    "model = ResNet50(num_class).to(device)\n",
    "model.load_state_dict(torch.load(best_val_file))\n",
    "\n",
    "test_predictions, test_outputs = trainer.evaluate(model, valid_loader)\n",
    "df_valid[\"pred\"] = test_predictions\n",
    "df_valid[\"proba\"] = test_outputs\n",
    "df_valid.to_csv(df_valid_filepath, index=False)"
   ]
  },
  {
   "cell_type": "code",
   "execution_count": null,
   "id": "4c86b9f3-658e-476e-a41a-65a60afdfed3",
   "metadata": {},
   "outputs": [],
   "source": [
    "test_predictions, test_outputs = trainer.evaluate(model, test_loader)\n",
    "df_test[\"pred\"] = test_predictions\n",
    "df_test[\"proba\"] = test_outputs\n",
    "df_test.to_csv(df_test_filepath, index=False)"
   ]
  },
  {
   "cell_type": "code",
   "execution_count": null,
   "id": "1594dd20-1df2-491e-b875-9707f9b9ea42",
   "metadata": {},
   "outputs": [],
   "source": []
  }
 ],
 "metadata": {
  "kernelspec": {
   "display_name": "Python 3 (ipykernel)",
   "language": "python",
   "name": "python3"
  },
  "language_info": {
   "codemirror_mode": {
    "name": "ipython",
    "version": 3
   },
   "file_extension": ".py",
   "mimetype": "text/x-python",
   "name": "python",
   "nbconvert_exporter": "python",
   "pygments_lexer": "ipython3",
   "version": "3.11.7"
  }
 },
 "nbformat": 4,
 "nbformat_minor": 5
}
